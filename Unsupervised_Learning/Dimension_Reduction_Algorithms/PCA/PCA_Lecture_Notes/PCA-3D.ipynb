{
 "cells": [
  {
   "cell_type": "code",
   "execution_count": null,
   "metadata": {},
   "outputs": [],
   "source": [
    "import numpy as np\n",
    "import matplotlib.pyplot as plt\n",
    "from sklearn.decomposition import PCA\n",
    "np.random.seed(2343243)\n",
    "mean_vec1 = np.array([0,0,0])\n",
    "cov_mat1 = np.array([[1,0,0],[0,1,0],[0,0,1]])\n",
    "class1 = np.random.multivariate_normal(mean_vec1, cov_mat1, 100)\n",
    "mean_vec2 = np.array([1,1,1])\n",
    "cov_mat2 = np.array([[1,0,0],[0,1,0],[0,0,1]])\n",
    "class2 = np.random.multivariate_normal(mean_vec2, cov_mat2, 100)\n",
    "from matplotlib import pyplot as plt\n",
    "from mpl_toolkits.mplot3d import Axes3D, proj3d\n",
    "\n",
    "fig = plt.figure(figsize=(8,8))\n",
    "ax = fig.add_subplot(111,projection='3d')\n",
    "ax.plot(class1[:, 0], class1[:, 1], class1[:, 2], 'o')\n",
    "ax.plot(class2[:, 0], class2[:, 1], class2[:, 2], '^')\n",
    "plt.show()\n",
    "all_data = np.concatenate((class1, class2))\n",
    "pca = PCA(n_components = 2)\n",
    "transformed_data = pca.fit_transform(all_data)\n",
    "transformed_data\n",
    "pca.components_\n",
    "plt.plot(transformed_data[0:100,0],transformed_data[0:100,1],\"o\")\n",
    "plt.plot(transformed_data[100:200,0],transformed_data[100:200,1],\"^\")\n",
    "plt.show()\n",
    "X_approx = pca.inverse_transform(transformed_data)\n",
    "fig = plt.figure(figsize=(8,8))\n",
    "ax = fig.add_subplot(111,projection='3d')\n",
    "ax.plot(X_approx[:, 0], X_approx[:, 1], X_approx[:, 2], '^')\n",
    "plt.show()\n",
    "a = -0.409689\n",
    "b = 7.2827\n",
    "c = - 7.1008\n",
    "i = 10\n",
    "a * X_approx[i][0] + b* X_approx[i][1] + c * X_approx[i][2]"
   ]
  }
 ],
 "metadata": {
  "kernelspec": {
   "display_name": "Python 3",
   "language": "python",
   "name": "python3"
  },
  "language_info": {
   "codemirror_mode": {
    "name": "ipython",
    "version": 3
   },
   "file_extension": ".py",
   "mimetype": "text/x-python",
   "name": "python",
   "nbconvert_exporter": "python",
   "pygments_lexer": "ipython3",
   "version": "3.6.3"
  }
 },
 "nbformat": 4,
 "nbformat_minor": 2
}
